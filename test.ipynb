{
 "cells": [
  {
   "cell_type": "code",
   "execution_count": 1,
   "metadata": {},
   "outputs": [],
   "source": [
    "from datetime import datetime, timedelta, timezone\n",
    "from requests import post\n"
   ]
  },
  {
   "cell_type": "code",
   "execution_count": 2,
   "metadata": {},
   "outputs": [],
   "source": [
    "def get_n_days_ago(n: int):\n",
    "    utc_now = datetime.now(tz=timezone.utc)\n",
    "    n_days_ago = utc_now - timedelta(days=n)\n",
    "    n_days_ago_str = n_days_ago.strftime('%Y-%m-%d')\n",
    "    return n_days_ago_str"
   ]
  },
  {
   "cell_type": "code",
   "execution_count": 3,
   "metadata": {},
   "outputs": [],
   "source": [
    "def get_n_hours_ago(n):\n",
    "    utc_now = datetime.now(tz=timezone.utc)\n",
    "    n_hours_ago = utc_now - timedelta(hours=n)\n",
    "    n_hours_ago_str = n_hours_ago.strftime('%Y-%m-%dT%H:%M:%S+00:00')\n",
    "    return n_hours_ago_str"
   ]
  },
  {
   "cell_type": "code",
   "execution_count": 4,
   "metadata": {},
   "outputs": [],
   "source": [
    "headers = {'X-API-KEY': \"BQYKms3kVxifi8rVjOeogFN6xmkQQs8e\"}"
   ]
  },
  {
   "cell_type": "code",
   "execution_count": 5,
   "metadata": {},
   "outputs": [],
   "source": [
    "\n",
    "query=\"\"\"query MyQuery {\n",
    "  ethereum(network: bsc) {\n",
    "    transactions(\n",
    "      txSender: {is: \"0xf927bdc9dd5b320f1a802c970af13dd4e357a6ef\"}\n",
    "      success: true\n",
    "      amount: {gt: 0}\n",
    "      date: {after: \"2022-04-05\"}\n",
    "    ) {\n",
    "      any(of: amount)\n",
    "      hash\n",
    "      to {\n",
    "        smartContract {\n",
    "          contractType\n",
    "        }\n",
    "      }\n",
    "    }\n",
    "  }\n",
    "}\n",
    "\"\"\""
   ]
  },
  {
   "cell_type": "code",
   "execution_count": 6,
   "metadata": {},
   "outputs": [],
   "source": [
    "request = post( 'https://graphql.bitquery.io/',\n",
    "                json={'query': query, 'variables': {}}, headers=headers)"
   ]
  },
  {
   "cell_type": "code",
   "execution_count": 11,
   "metadata": {},
   "outputs": [
    {
     "name": "stdout",
     "output_type": "stream",
     "text": [
      "None\n",
      "{'any': '0.1', 'hash': '0xa7ac0599212243aa35e965a01026b26e3d204965cd100ddaf4c70b530dd8d965', 'to': {'smartContract': {'contractType': None}}}\n"
     ]
    }
   ],
   "source": [
    "data = request.json()['data']['ethereum']['transactions']\n",
    "\n",
    "for d in data:\n",
    "    if not d['to']['smartContract']['contractType']:\n",
    "        print(d['to']['smartContract']['contractType'])\n",
    "        print(d)"
   ]
  },
  {
   "cell_type": "code",
   "execution_count": null,
   "metadata": {},
   "outputs": [],
   "source": []
  }
 ],
 "metadata": {
  "interpreter": {
   "hash": "34c03eaa0cc479a3a073f297fbd4ca050e8c46cde39349e5e4580b1add2d1e4b"
  },
  "kernelspec": {
   "display_name": "Python 3.7.11 ('james')",
   "language": "python",
   "name": "python3"
  },
  "language_info": {
   "codemirror_mode": {
    "name": "ipython",
    "version": 3
   },
   "file_extension": ".py",
   "mimetype": "text/x-python",
   "name": "python",
   "nbconvert_exporter": "python",
   "pygments_lexer": "ipython3",
   "version": "3.7.13"
  },
  "orig_nbformat": 4
 },
 "nbformat": 4,
 "nbformat_minor": 2
}
